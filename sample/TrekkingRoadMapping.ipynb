{
 "cells": [
  {
   "cell_type": "markdown",
   "metadata": {},
   "source": [
    "# Trakking Road Mapping Sample\n",
    "\n",
    "Note that the sample only works with ipyleaflet extension installed.\n",
    "For details, refer [the official documentation](https://ipyleaflet.readthedocs.io/en/latest/installation.html)"
   ]
  },
  {
   "cell_type": "code",
   "execution_count": 1,
   "metadata": {
    "scrolled": false
   },
   "outputs": [
    {
     "data": {
      "application/vnd.jupyter.widget-view+json": {
       "model_id": "ce87480e608d4d8496521c2548d6002a",
       "version_major": 2,
       "version_minor": 0
      },
      "text/plain": [
       "Map(center=[36.382832947767206, 137.49234340153637], controls=(ZoomControl(options=['position', 'zoom_in_text'…"
      ]
     },
     "metadata": {},
     "output_type": "display_data"
    }
   ],
   "source": [
    "import ipyleaflet as ipl\n",
    "\n",
    "# Initialize map object\n",
    "m = ipl.Map(zoom=11, center=(36.382832947767206, 137.49234340153637))\n",
    "m.layout.width = '70%'\n",
    "m.layout.height = '500px'\n",
    "m"
   ]
  },
  {
   "cell_type": "code",
   "execution_count": 2,
   "metadata": {},
   "outputs": [
    {
     "data": {
      "text/plain": [
       "(36.24427318493909, 137.35244750976565, 36.52067329034796, 137.63259887695315)"
      ]
     },
     "execution_count": 2,
     "metadata": {},
     "output_type": "execute_result"
    }
   ],
   "source": [
    "# The behavior is a bit unstable\n",
    "# Wait a little bit and retry if it doesn't work\n",
    "(south, east,), (north, west,) = m.bounds\n",
    "south, east, north, west"
   ]
  },
  {
   "cell_type": "code",
   "execution_count": 3,
   "metadata": {},
   "outputs": [
    {
     "name": "stdout",
     "output_type": "stream",
     "text": [
      "[*] Query: \n",
      "    way\n",
      "    [\"highway\"]\n",
      "    [\"area\"!~\"yes\"]\n",
      "    [\"highway\"!~\"cycleway|motor|proposed|construction|abandoned|platform|raceway\"]\n",
      "    [\"foot\"!~\"no\"]\n",
      "    [\"service\"!~\"private\"]\n",
      "    (36.24427318493909, 137.35244750976565, 36.52067329034796, 137.63259887695315);\n",
      "    out;\n",
      "\n",
      "[*] Found nodes: 0\n",
      "[*] Found ways: 1816\n",
      "Wall time: 3.47 s\n"
     ]
    }
   ],
   "source": [
    "%%time\n",
    "import overpy\n",
    "api = overpy.Overpass()\n",
    "query = f\"\"\"\n",
    "    way\n",
    "    [\"highway\"]\n",
    "    [\"area\"!~\"yes\"]\n",
    "    [\"highway\"!~\"cycleway|motor|proposed|construction|abandoned|platform|raceway\"]\n",
    "    [\"foot\"!~\"no\"]\n",
    "    [\"service\"!~\"private\"]\n",
    "    ({south}, {east}, {north}, {west});\n",
    "    out;\n",
    "\"\"\"\n",
    "print(f\"[*] Query: {query}\")\n",
    "result = api.query(query)\n",
    "print(\"[*] Found nodes:\", len(result.nodes))\n",
    "print(\"[*] Found ways:\", len(result.ways))"
   ]
  },
  {
   "cell_type": "code",
   "execution_count": 4,
   "metadata": {},
   "outputs": [
    {
     "name": "stdout",
     "output_type": "stream",
     "text": [
      "[*] Querying 1814 nodes\n"
     ]
    },
    {
     "data": {
      "application/vnd.jupyter.widget-view+json": {
       "model_id": "ce87480e608d4d8496521c2548d6002a",
       "version_major": 2,
       "version_minor": 0
      },
      "text/plain": [
       "Map(bottom=205440.0, center=[36.382832947767206, 137.49234340153637], controls=(ZoomControl(options=['position…"
      ]
     },
     "metadata": {},
     "output_type": "display_data"
    },
    {
     "name": "stdout",
     "output_type": "stream",
     "text": [
      "[*] Done\n",
      "Wall time: 8.2 s\n"
     ]
    }
   ],
   "source": [
    "%%time\n",
    "import ipyleaflet as ipl\n",
    "from tqdm.notebook import tqdm\n",
    "\n",
    "# if only the nodes in between is important\n",
    "ways = result.ways\n",
    "node_ids = sorted(\n",
    "    set(\n",
    "        w._node_ids[0] for w in ways\n",
    "    ).union(\n",
    "        w._node_ids[-1] for w in ways\n",
    "    )\n",
    ")\n",
    "query = \"[out:json];\\n\" + \"\\n\".join(\n",
    "    [f\"node({node_id});out;\" for node_id in node_ids]\n",
    ")\n",
    "print(f\"[*] Querying {len(node_ids)} nodes\")\n",
    "result_nids = api.query(query)\n",
    "print(\"[*] Done\")\n",
    "nid2latlon = {n.id: (float(n.lat), float(n.lon)) for n in result_nids.nodes}\n",
    "del node_ids, query, result_nids\n",
    "\n",
    "# If all the nodes are important\n",
    "# for way in tqdm(ways):\n",
    "#     way.get_nodes(resolve_missing=True)\n",
    "\n",
    "line = ipl.Polyline(\n",
    "    locations=[\n",
    "        [\n",
    "            nid2latlon[n_id]\n",
    "            for n_id in way._node_ids\n",
    "            if n_id in nid2latlon\n",
    "        ]\n",
    "        for way in ways\n",
    "    ],\n",
    "    color='RED',\n",
    "    fill_opacity=0.0,\n",
    "    weight=1,\n",
    ")\n",
    "m.add_layer(line)\n",
    "m"
   ]
  }
 ],
 "metadata": {
  "kernelspec": {
   "display_name": "Python 3",
   "language": "python",
   "name": "python3"
  },
  "language_info": {
   "codemirror_mode": {
    "name": "ipython",
    "version": 3
   },
   "file_extension": ".py",
   "mimetype": "text/x-python",
   "name": "python",
   "nbconvert_exporter": "python",
   "pygments_lexer": "ipython3",
   "version": "3.8.0"
  }
 },
 "nbformat": 4,
 "nbformat_minor": 4
}
